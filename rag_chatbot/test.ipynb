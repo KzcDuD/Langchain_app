{
 "cells": [
  {
   "cell_type": "code",
   "execution_count": 1,
   "metadata": {},
   "outputs": [],
   "source": [
    "import os\n",
    "from langchain.chat_models import ChatOpenAI\n",
    "from dotenv import load_dotenv\n",
    "\n",
    "load_dotenv()\n",
    "\n",
    "os.environ[\"OPENAI_API_KEY\"] = os.getenv(\"OPENAI_API_KEY\") or \"YOUR_API_KEY\"\n",
    "\n",
    "chat = ChatOpenAI(\n",
    "    openai_api_key=os.environ[\"OPENAI_API_KEY\"],\n",
    "    model='gpt-3.5-turbo'\n",
    ")"
   ]
  },
  {
   "cell_type": "code",
   "execution_count": 2,
   "metadata": {},
   "outputs": [
    {
     "name": "stdout",
     "output_type": "stream",
     "text": [
      "String theory is a theoretical framework in physics that seeks to explain the fundamental nature of all particles and forces in the universe. It suggests that instead of point-like particles, the fundamental building blocks of matter are tiny, vibrating strings. These strings can vibrate at different frequencies, giving rise to different particles and their properties.\n",
      "\n",
      "Here are some key points about string theory:\n",
      "\n",
      "1. Dimensions: String theory requires the universe to have more than the usual three dimensions of space and one dimension of time. In most versions of string theory, there are 10 dimensions (9 spatial dimensions and 1 time dimension), although some versions propose additional dimensions.\n",
      "\n",
      "2. Quantum Mechanics: String theory is inherently a quantum theory. It incorporates the principles of quantum mechanics, which describe the behavior of particles at the microscopic level, into the framework of general relativity, which describes gravity at the macroscopic level.\n",
      "\n",
      "3. Unification of Forces: One of the main goals of string theory is to unify all the fundamental forces of nature—gravity, electromagnetism, the strong nuclear force, and the weak nuclear force—into a single, coherent framework. By treating particles as different vibrational modes of strings, string theory aims to explain the origins of these forces and their interactions.\n",
      "\n",
      "4. Supersymmetry: Supersymmetry is a key concept in string theory. It proposes a symmetry between particles with integer spin (bosons) and particles with half-integer spin (fermions). Supersymmetry may help resolve certain problems in particle physics, such as the hierarchy problem and the unification of forces.\n",
      "\n",
      "5. Multiverse: String theory suggests the possibility of a multiverse, where our universe is just one of many possible universes with different physical properties. These different universes could arise from different configurations of strings and their interactions.\n",
      "\n",
      "It's important to note that string theory is still a work in progress, and many aspects of it are still being actively researched and explored. While it holds great promise, it has not yet been experimentally confirmed, and there are ongoing debates and challenges in developing a complete and testable theory.\n"
     ]
    }
   ],
   "source": [
    "\n",
    "from langchain.schema import (\n",
    "    SystemMessage,\n",
    "    HumanMessage,\n",
    "    AIMessage\n",
    ")\n",
    "\n",
    "messages = [\n",
    "    SystemMessage(content=\"You are a helpful assistant.\"),\n",
    "    HumanMessage(content=\"Hi AI, how are you today?\"),\n",
    "    AIMessage(content=\"I'm great thank you. How can I help you?\"),\n",
    "    HumanMessage(content=\"I'd like to understand string theory.\")\n",
    "]\n",
    "\n",
    "res = chat(messages)\n",
    "res\n",
    "\n",
    "print(res.content)"
   ]
  },
  {
   "cell_type": "code",
   "execution_count": 3,
   "metadata": {},
   "outputs": [
    {
     "name": "stdout",
     "output_type": "stream",
     "text": [
      "Physicists believe that string theory has the potential to produce a unified theory because it offers a way to incorporate all known fundamental forces, including gravity, into a single framework. Here are a few reasons why string theory is considered a candidate for a unified theory:\n",
      "\n",
      "1. Consistent Quantum Gravity: One of the biggest challenges in theoretical physics is reconciling general relativity (which describes gravity on a large scale) with quantum mechanics (which describes particles and forces on a small scale). String theory naturally incorporates both of these theories, providing a consistent framework that combines quantum mechanics and gravity.\n",
      "\n",
      "2. Gauge Symmetries: Gauge symmetries describe the fundamental forces in the Standard Model of particle physics. String theory provides a framework that can accommodate these symmetries and potentially explain their origin. By treating particles as different vibrational modes of strings, string theory can account for the different particles and forces in the universe.\n",
      "\n",
      "3. Supersymmetry: Supersymmetry, a key concept in string theory, proposes a symmetry between particles with different spins. This symmetry not only helps address certain problems in particle physics but also suggests a deeper underlying structure that could lead to a unified theory. Supersymmetry predicts the existence of additional particles called superpartners, which could be observed at higher energies.\n",
      "\n",
      "4. Dualities: String theory exhibits a property known as duality, which implies that different string theories can be equivalent descriptions of the same physics. These dualities provide a mathematical framework that allows physicists to relate seemingly different physical systems. They provide insights into the connections between different theories and suggest the existence of a more fundamental underlying theory.\n",
      "\n",
      "5. Multiverse and Landscape: String theory's prediction of a multiverse, with different regions having different physical properties, suggests that the observed laws of physics in our universe might be only one possibility among many. This landscape of possibilities could potentially explain the fine-tuning of physical constants and the observed diversity of our universe.\n",
      "\n",
      "It's important to note that while string theory is a promising candidate for a unified theory, it has not yet been fully developed or experimentally confirmed. Research in this area is ongoing, and physicists are actively exploring different aspects of string theory to understand its implications and make testable predictions.\n"
     ]
    }
   ],
   "source": [
    "\n",
    "# add latest AI response to messages\n",
    "messages.append(res)\n",
    "\n",
    "# now create a new user prompt\n",
    "prompt = HumanMessage(\n",
    "    content=\"Why do physicists believe it can produce a 'unified theory'?\"\n",
    ")\n",
    "# add to messages\n",
    "messages.append(prompt)\n",
    "\n",
    "# send to chat-gpt\n",
    "res = chat(messages)\n",
    "\n",
    "print(res.content)"
   ]
  },
  {
   "cell_type": "code",
   "execution_count": 4,
   "metadata": {},
   "outputs": [
    {
     "name": "stdout",
     "output_type": "stream",
     "text": [
      "I'm sorry, but I couldn't find any specific information about something called \"Llama 2\" that would make it special. It's possible that \"Llama 2\" could refer to a specific context or reference that I am not aware of. Can you provide any additional details or context about what \"Llama 2\" refers to?\n"
     ]
    }
   ],
   "source": [
    "# add latest AI response to messages\n",
    "messages.append(res)\n",
    "\n",
    "# now create a new user prompt\n",
    "prompt = HumanMessage(\n",
    "    content=\"What is so special about Llama 2?\"\n",
    ")\n",
    "# add to messages\n",
    "messages.append(prompt)\n",
    "\n",
    "# send to OpenAI\n",
    "res = chat(messages)\n",
    "print(res.content)"
   ]
  },
  {
   "cell_type": "code",
   "execution_count": 5,
   "metadata": {},
   "outputs": [
    {
     "name": "stdout",
     "output_type": "stream",
     "text": [
      "I apologize, but I couldn't find any specific information about an \"LLMChain\" in relation to \"LangChain.\" It's possible that these terms are specific to a particular context or project that I am not familiar with. If you can provide more details or context about what \"LLMChain\" and \"LangChain\" refer to, I can try to provide a more accurate response.\n"
     ]
    }
   ],
   "source": [
    "# add latest AI response to messages\n",
    "messages.append(res)\n",
    "\n",
    "# now create a new user prompt\n",
    "prompt = HumanMessage(\n",
    "    content=\"Can you tell me about the LLMChain in LangChain?\"\n",
    ")\n",
    "# add to messages\n",
    "messages.append(prompt)\n",
    "\n",
    "# send to OpenAI\n",
    "res = chat(messages)\n",
    "\n",
    "print(res.content)"
   ]
  },
  {
   "cell_type": "code",
   "execution_count": 6,
   "metadata": {},
   "outputs": [],
   "source": [
    "llmchain_information = [\n",
    "    \"A LLMChain is the most common type of chain. It consists of a PromptTemplate, a model (either an LLM or a ChatModel), and an optional output parser. This chain takes multiple input variables, uses the PromptTemplate to format them into a prompt. It then passes that to the model. Finally, it uses the OutputParser (if provided) to parse the output of the LLM into a final format.\",\n",
    "    \"Chains is an incredibly generic concept which returns to a sequence of modular components (or other chains) combined in a particular way to accomplish a common use case.\",\n",
    "    \"LangChain is a framework for developing applications powered by language models. We believe that the most powerful and differentiated applications will not only call out to a language model via an api, but will also: (1) Be data-aware: connect a language model to other sources of data, (2) Be agentic: Allow a language model to interact with its environment. As such, the LangChain framework is designed with the objective in mind to enable those types of applications.\"\n",
    "]\n",
    "\n",
    "source_knowledge = \"\\n\".join(llmchain_information)"
   ]
  },
  {
   "cell_type": "code",
   "execution_count": 7,
   "metadata": {},
   "outputs": [],
   "source": [
    "query = \"Can you tell me about the LLMChain in LangChain?\"\n",
    "\n",
    "augmented_prompt = f\"\"\"Using the contexts below, answer the query.\n",
    "\n",
    "Contexts:\n",
    "{source_knowledge}\n",
    "\n",
    "Query: {query}\"\"\""
   ]
  },
  {
   "cell_type": "code",
   "execution_count": 8,
   "metadata": {},
   "outputs": [],
   "source": [
    "prompt = HumanMessage(\n",
    "    content=augmented_prompt\n",
    ")\n",
    "# add to messages\n",
    "messages.append(prompt)\n",
    "\n",
    "# send to OpenAI\n",
    "res = chat(messages)"
   ]
  },
  {
   "cell_type": "code",
   "execution_count": 9,
   "metadata": {},
   "outputs": [
    {
     "name": "stdout",
     "output_type": "stream",
     "text": [
      "The LLMChain is a type of chain within the LangChain framework, which is designed for developing applications powered by language models. A chain in this context refers to a sequence of modular components combined in a specific way to achieve a particular purpose.\n",
      "\n",
      "The LLMChain, or Language Model Chain, is the most common type of chain within LangChain. It consists of several components: a PromptTemplate, a model (either an LLM or a ChatModel), and an optional output parser. \n",
      "\n",
      "The chain takes multiple input variables and uses the PromptTemplate to format them into a prompt. This prompt is then passed to the model, which utilizes a language model (either an LLM or a ChatModel) to generate a response. Finally, the chain can employ an OutputParser, if provided, to parse and format the output of the language model into a desired final format.\n",
      "\n",
      "The LangChain framework aims to create applications that not only utilize language models via APIs but also enable these applications to be data-aware and interactive. By connecting language models to other sources of data and allowing them to interact with their environment, LangChain facilitates the development of powerful and differentiated language model-powered applications.\n"
     ]
    }
   ],
   "source": [
    "print(res.content)"
   ]
  },
  {
   "cell_type": "code",
   "execution_count": 11,
   "metadata": {},
   "outputs": [
    {
     "name": "stderr",
     "output_type": "stream",
     "text": [
      "/Users/chihhlinn/Library/Python/3.9/lib/python/site-packages/tqdm/auto.py:21: TqdmWarning: IProgress not found. Please update jupyter and ipywidgets. See https://ipywidgets.readthedocs.io/en/stable/user_install.html\n",
      "  from .autonotebook import tqdm as notebook_tqdm\n",
      "Downloading readme: 100%|██████████| 409/409 [00:00<00:00, 1.18MB/s]\n",
      "Downloading data: 100%|██████████| 14.4M/14.4M [00:05<00:00, 2.71MB/s]\n",
      "Generating train split: 4838 examples [00:00, 66108.20 examples/s]\n"
     ]
    },
    {
     "data": {
      "text/plain": [
       "Dataset({\n",
       "    features: ['doi', 'chunk-id', 'chunk', 'id', 'title', 'summary', 'source', 'authors', 'categories', 'comment', 'journal_ref', 'primary_category', 'published', 'updated', 'references'],\n",
       "    num_rows: 4838\n",
       "})"
      ]
     },
     "execution_count": 11,
     "metadata": {},
     "output_type": "execute_result"
    }
   ],
   "source": [
    "from datasets import load_dataset\n",
    "\n",
    "dataset = load_dataset(\n",
    "    \"jamescalam/llama-2-arxiv-papers-chunked\",\n",
    "    split=\"train\"\n",
    ")\n",
    "\n",
    "dataset"
   ]
  },
  {
   "cell_type": "code",
   "execution_count": 12,
   "metadata": {},
   "outputs": [
    {
     "data": {
      "text/plain": [
       "{'doi': '1102.0183',\n",
       " 'chunk-id': '0',\n",
       " 'chunk': 'High-Performance Neural Networks\\nfor Visual Object Classi\\x0ccation\\nDan C. Cire\\x18 san, Ueli Meier, Jonathan Masci,\\nLuca M. Gambardella and J\\x7f urgen Schmidhuber\\nTechnical Report No. IDSIA-01-11\\nJanuary 2011\\nIDSIA / USI-SUPSI\\nDalle Molle Institute for Arti\\x0ccial Intelligence\\nGalleria 2, 6928 Manno, Switzerland\\nIDSIA is a joint institute of both University of Lugano (USI) and University of Applied Sciences of Southern Switzerland (SUPSI),\\nand was founded in 1988 by the Dalle Molle Foundation which promoted quality of life.\\nThis work was partially supported by the Swiss Commission for Technology and Innovation (CTI), Project n. 9688.1 IFF:\\nIntelligent Fill in Form.arXiv:1102.0183v1  [cs.AI]  1 Feb 2011\\nTechnical Report No. IDSIA-01-11 1\\nHigh-Performance Neural Networks\\nfor Visual Object Classi\\x0ccation\\nDan C. Cire\\x18 san, Ueli Meier, Jonathan Masci,\\nLuca M. Gambardella and J\\x7f urgen Schmidhuber\\nJanuary 2011\\nAbstract\\nWe present a fast, fully parameterizable GPU implementation of Convolutional Neural\\nNetwork variants. Our feature extractors are neither carefully designed nor pre-wired, but',\n",
       " 'id': '1102.0183',\n",
       " 'title': 'High-Performance Neural Networks for Visual Object Classification',\n",
       " 'summary': 'We present a fast, fully parameterizable GPU implementation of Convolutional\\nNeural Network variants. Our feature extractors are neither carefully designed\\nnor pre-wired, but rather learned in a supervised way. Our deep hierarchical\\narchitectures achieve the best published results on benchmarks for object\\nclassification (NORB, CIFAR10) and handwritten digit recognition (MNIST), with\\nerror rates of 2.53%, 19.51%, 0.35%, respectively. Deep nets trained by simple\\nback-propagation perform better than more shallow ones. Learning is\\nsurprisingly rapid. NORB is completely trained within five epochs. Test error\\nrates on MNIST drop to 2.42%, 0.97% and 0.48% after 1, 3 and 17 epochs,\\nrespectively.',\n",
       " 'source': 'http://arxiv.org/pdf/1102.0183',\n",
       " 'authors': ['Dan C. Cireşan',\n",
       "  'Ueli Meier',\n",
       "  'Jonathan Masci',\n",
       "  'Luca M. Gambardella',\n",
       "  'Jürgen Schmidhuber'],\n",
       " 'categories': ['cs.AI', 'cs.NE'],\n",
       " 'comment': '12 pages, 2 figures, 5 tables',\n",
       " 'journal_ref': None,\n",
       " 'primary_category': 'cs.AI',\n",
       " 'published': '20110201',\n",
       " 'updated': '20110201',\n",
       " 'references': []}"
      ]
     },
     "execution_count": 12,
     "metadata": {},
     "output_type": "execute_result"
    }
   ],
   "source": [
    "dataset[0]"
   ]
  },
  {
   "cell_type": "code",
   "execution_count": null,
   "metadata": {},
   "outputs": [],
   "source": []
  }
 ],
 "metadata": {
  "kernelspec": {
   "display_name": "Python 3",
   "language": "python",
   "name": "python3"
  },
  "language_info": {
   "codemirror_mode": {
    "name": "ipython",
    "version": 3
   },
   "file_extension": ".py",
   "mimetype": "text/x-python",
   "name": "python",
   "nbconvert_exporter": "python",
   "pygments_lexer": "ipython3",
   "version": "3.9.6"
  },
  "orig_nbformat": 4
 },
 "nbformat": 4,
 "nbformat_minor": 2
}
